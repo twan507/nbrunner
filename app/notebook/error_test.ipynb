{
 "cells": [
  {
   "cell_type": "markdown",
   "id": "08c929be",
   "metadata": {},
   "source": [
    "# Đây là file test lỗi"
   ]
  },
  {
   "cell_type": "code",
   "execution_count": null,
   "id": "4533e092",
   "metadata": {},
   "outputs": [
    {
     "name": "stdout",
     "output_type": "stream",
     "text": [
      "--- Bắt đầu lần thực thi thứ 3 của kịch bản ---\n",
      "...Đang xử lý và sẽ gây ra lỗi...\n"
     ]
    },
    {
     "ename": "RuntimeError",
     "evalue": "Đây là lần chạy thứ 3 và được thiết lập để gây lỗi!",
     "output_type": "error",
     "traceback": [
      "\u001b[1;31m---------------------------------------------------------------------------\u001b[0m",
      "\u001b[1;31mRuntimeError\u001b[0m                              Traceback (most recent call last)",
      "Cell \u001b[1;32mIn[15], line 56\u001b[0m\n\u001b[0;32m     52\u001b[0m         \u001b[38;5;28mprint\u001b[39m(\u001b[38;5;124mf\u001b[39m\u001b[38;5;124m\"\u001b[39m\u001b[38;5;124m✅ Lần này THÀNH CÔNG. Đã chạy thành công \u001b[39m\u001b[38;5;132;01m{\u001b[39;00mcurrent_run_attempt\u001b[38;5;132;01m}\u001b[39;00m\u001b[38;5;124m lần.\u001b[39m\u001b[38;5;124m\"\u001b[39m)\n\u001b[0;32m     55\u001b[0m \u001b[38;5;28;01mif\u001b[39;00m \u001b[38;5;18m__name__\u001b[39m \u001b[38;5;241m==\u001b[39m \u001b[38;5;124m\"\u001b[39m\u001b[38;5;124m__main__\u001b[39m\u001b[38;5;124m\"\u001b[39m:\n\u001b[1;32m---> 56\u001b[0m     main()\n",
      "Cell \u001b[1;32mIn[15], line 45\u001b[0m, in \u001b[0;36mmain\u001b[1;34m()\u001b[0m\n\u001b[0;32m     42\u001b[0m     save_run_count(\u001b[38;5;241m0\u001b[39m)\n\u001b[0;32m     44\u001b[0m     \u001b[38;5;66;03m# Gây lỗi và dừng hẳn chương trình\u001b[39;00m\n\u001b[1;32m---> 45\u001b[0m     \u001b[38;5;28;01mraise\u001b[39;00m \u001b[38;5;167;01mRuntimeError\u001b[39;00m(\u001b[38;5;124mf\u001b[39m\u001b[38;5;124m\"\u001b[39m\u001b[38;5;124mĐây là lần chạy thứ \u001b[39m\u001b[38;5;132;01m{\u001b[39;00mcurrent_run_attempt\u001b[38;5;132;01m}\u001b[39;00m\u001b[38;5;124m và được thiết lập để gây lỗi!\u001b[39m\u001b[38;5;124m\"\u001b[39m)\n\u001b[0;32m     46\u001b[0m \u001b[38;5;28;01melse\u001b[39;00m:\n\u001b[0;32m     47\u001b[0m     \u001b[38;5;28mprint\u001b[39m(\u001b[38;5;124m\"\u001b[39m\u001b[38;5;124m...Đang xử lý...\u001b[39m\u001b[38;5;124m\"\u001b[39m)\n",
      "\u001b[1;31mRuntimeError\u001b[0m: Đây là lần chạy thứ 3 và được thiết lập để gây lỗi!"
     ]
    }
   ],
   "source": [
    "import os\n",
    "import time\n",
    "\n",
    "# Tên của file dùng để lưu trạng thái\n",
    "STATE_FILE = \"run_count.txt\"\n",
    "\n",
    "# Kịch bản: 3 lần lỗi, 1 lần thành công (tổng chu kỳ 4 lần)\n",
    "CYCLE_LENGTH = 4\n",
    "\n",
    "def get_run_count():\n",
    "    \"\"\"Đọc số lần đã chạy từ file. Nếu file không có, coi như là 0.\"\"\"\n",
    "    try:\n",
    "        with open(STATE_FILE, 'r') as f:\n",
    "            # Đọc số lần chạy trước đó\n",
    "            return int(f.read().strip())\n",
    "    except (FileNotFoundError, ValueError):\n",
    "        # Nếu file không tồn tại hoặc trống, bắt đầu từ 0\n",
    "        return 0\n",
    "\n",
    "def save_run_count(count):\n",
    "    \"\"\"Lưu số lần chạy vào file.\"\"\"\n",
    "    with open(STATE_FILE, 'w') as f:\n",
    "        f.write(str(count))\n",
    "\n",
    "def main():\n",
    "    \"\"\"Hàm chính điều khiển logic theo chu kỳ.\"\"\"\n",
    "    # Lấy số lần đã chạy thành công trong chu kỳ hiện tại\n",
    "    last_run_count = get_run_count()\n",
    "    \n",
    "    # Lần chạy hiện tại trong chu kỳ (bắt đầu từ 1)\n",
    "    current_run_in_cycle = last_run_count + 1\n",
    "    \n",
    "    print(f\"--- Bắt đầu lần thực thi thứ {current_run_in_cycle} của chu kỳ {CYCLE_LENGTH} lần ---\")\n",
    "    \n",
    "    # Quyết định kết quả: thành công khi đây là lần cuối cùng của chu kỳ\n",
    "    is_success_run = (current_run_in_cycle == CYCLE_LENGTH)\n",
    "\n",
    "    # Cập nhật biến đếm cho lần chạy tiếp theo\n",
    "    # Nếu là lần thành công (cuối chu kỳ), reset về 0. Nếu không thì tăng lên.\n",
    "    next_count = 0 if is_success_run else current_run_in_cycle\n",
    "    save_run_count(next_count)\n",
    "\n",
    "    # Thực hiện tác vụ dựa trên kết quả\n",
    "    if is_success_run:\n",
    "        print(\"...Đang xử lý...\")\n",
    "        time.sleep(1)\n",
    "        print(\"✅ Tác vụ lần này THÀNH CÔNG.\")\n",
    "        print(f\"--- Chu kỳ {CYCLE_LENGTH} lần đã hoàn tất. Lần chạy tiếp theo sẽ bắt đầu lại. ---\")\n",
    "    else:\n",
    "        print(\"...Đang xử lý và sẽ gây ra lỗi...\")\n",
    "        time.sleep(1)\n",
    "        # Gây lỗi và dừng hẳn chương trình\n",
    "        raise ConnectionAbortedError(f\"Cố tình gây lỗi ở lần chạy thứ {current_run_in_cycle} của chu kỳ!\")\n",
    "\n",
    "if __name__ == \"__main__\":\n",
    "    main()"
   ]
  }
 ],
 "metadata": {
  "kernelspec": {
   "display_name": "base",
   "language": "python",
   "name": "python3"
  },
  "language_info": {
   "codemirror_mode": {
    "name": "ipython",
    "version": 3
   },
   "file_extension": ".py",
   "mimetype": "text/x-python",
   "name": "python",
   "nbconvert_exporter": "python",
   "pygments_lexer": "ipython3",
   "version": "3.12.7"
  }
 },
 "nbformat": 4,
 "nbformat_minor": 5
}
