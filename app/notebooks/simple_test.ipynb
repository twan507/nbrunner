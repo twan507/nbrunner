{
 "cells": [
  {
   "cell_type": "code",
   "execution_count": null,
   "id": "2ea7fdae",
   "metadata": {},
   "outputs": [],
   "source": [
    "# Test notebook đơn giản\n",
    "print(\"Hello from simple test notebook!\")\n",
    "print(\"Python version:\", __import__('sys').version)\n",
    "print(\"Current working directory:\", __import__('os').getcwd())\n",
    "\n",
    "# Test basic math\n",
    "result = 2 + 3\n",
    "print(f\"2 + 3 = {result}\")\n",
    "\n",
    "# Test loop\n",
    "for i in range(3):\n",
    "    print(f\"Count: {i+1}\")\n",
    "\n",
    "print(\"Simple test completed successfully!\")"
   ]
  }
 ],
 "metadata": {
  "language_info": {
   "name": "python"
  }
 },
 "nbformat": 4,
 "nbformat_minor": 5
}
