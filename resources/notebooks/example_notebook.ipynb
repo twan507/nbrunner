{
 "cells": [
  {
   "cell_type": "markdown",
   "id": "f41aa1b9",
   "metadata": {},
   "source": [
    "# Đây là bản test chi tiết hơn"
   ]
  },
  {
   "cell_type": "code",
   "execution_count": null,
   "id": "a2f10e96",
   "metadata": {},
   "outputs": [],
   "source": [
    "import os\n",
    "import sys\n",
    "\n",
    "# Kiểm tra xem my_module có được tìm thấy không\n",
    "try:\n",
    "    import my_module\n",
    "    print(my_module.say_hello(\"Notebook User\"))\n",
    "    print(f\"2 + 3 = {my_module.add_numbers(2, 3)}\")\n",
    "    my_module.print_current_path()\n",
    "except ImportError:\n",
    "    print(\"Lỗi: Không thể import my_module. Vui lòng kiểm tra đường dẫn module.\")\n",
    "\n",
    "print(\"Đây là output từ Example Notebook!\")\n",
    "for i in range(5):\n",
    "    print(f\"Đang đếm: {i+1}\")\n",
    "\n",
    "# Ví dụ về việc sử dụng pandas và numpy\n",
    "try:\n",
    "    import pandas as pd\n",
    "    import numpy as np\n",
    "    data = {'col1': np.random.rand(5), 'col2': np.random.randint(0, 10, 5)}\n",
    "    df = pd.DataFrame(data)\n",
    "    print(\"Đây là DataFrame:\")\n",
    "    print(df)\n",
    "except ImportError:\n",
    "    print(\"Lỗi: Pandas hoặc Numpy không được cài đặt. Bỏ qua ví dụ DataFrame.\")\n",
    "\n",
    "print(\"Notebook đã hoàn thành.\")"
   ]
  },
  {
   "cell_type": "code",
   "execution_count": null,
   "id": "05bf561c",
   "metadata": {},
   "outputs": [],
   "source": [
    "import os\n",
    "import sys\n",
    "\n",
    "# Kiểm tra xem my_module có được tìm thấy không\n",
    "try:\n",
    "    import my_module\n",
    "    print(my_module.say_hello(\"Notebook User\"))\n",
    "    print(f\"2 + 3 = {my_module.add_numbers(2, 3)}\")\n",
    "    my_module.print_current_path()\n",
    "except ImportError:\n",
    "    print(\"Lỗi: Không thể import my_module. Vui lòng kiểm tra đường dẫn module.\")\n",
    "\n",
    "print(\"Đây là output từ Example Notebook!\")\n",
    "for i in range(5):\n",
    "    print(f\"Đang đếm: {i+1}\")\n",
    "\n",
    "# Ví dụ về việc sử dụng pandas và numpy\n",
    "try:\n",
    "    import pandas as pd\n",
    "    import numpy as np\n",
    "    data = {'col1': np.random.rand(5), 'col2': np.random.randint(0, 10, 5)}\n",
    "    df = pd.DataFrame(data)\n",
    "    print(\"Đây là DataFrame:\")\n",
    "    print(df)\n",
    "except ImportError:\n",
    "    print(\"Lỗi: Pandas hoặc Numpy không được cài đặt. Bỏ qua ví dụ DataFrame.\")\n",
    "\n",
    "print(\"Notebook đã hoàn thành.\")"
   ]
  }
 ],
 "metadata": {
  "language_info": {
   "name": "python"
  }
 },
 "nbformat": 4,
 "nbformat_minor": 5
}
